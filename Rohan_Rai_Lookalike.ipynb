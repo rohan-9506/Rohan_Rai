{
  "nbformat": 4,
  "nbformat_minor": 0,
  "metadata": {
    "colab": {
      "provenance": []
    },
    "kernelspec": {
      "name": "python3",
      "display_name": "Python 3"
    },
    "language_info": {
      "name": "python"
    }
  },
  "cells": [
    {
      "cell_type": "code",
      "execution_count": 1,
      "metadata": {
        "colab": {
          "base_uri": "https://localhost:8080/"
        },
        "id": "-Sb73O__HjRL",
        "outputId": "ba77a5ba-d6d0-4a15-d648-b3a41920232d"
      },
      "outputs": [
        {
          "output_type": "stream",
          "name": "stdout",
          "text": [
            "Lookalike recommendations saved to Lookalike.csv\n"
          ]
        }
      ],
      "source": [
        "import pandas as pd\n",
        "from sklearn.metrics.pairwise import cosine_similarity\n",
        "from sklearn.preprocessing import StandardScaler\n",
        "\n",
        "# Load datasets\n",
        "transactions_df = pd.read_csv('Transactions.csv')\n",
        "products_df = pd.read_csv('Products.csv')\n",
        "customers_df = pd.read_csv('Customers.csv')\n",
        "\n",
        "# Merge data for customer transaction aggregation\n",
        "transactions_products = pd.merge(transactions_df, products_df, on='ProductID')\n",
        "customer_transactions = pd.merge(transactions_products, customers_df, on='CustomerID')\n",
        "\n",
        "# Aggregate features for each customer\n",
        "customer_profile = customer_transactions.groupby('CustomerID').agg({\n",
        "    'TotalValue': 'sum',  # Total spending\n",
        "    'ProductID': 'nunique',  # Unique products purchased\n",
        "    'Category': lambda x: x.mode()[0],  # Most frequent category purchased\n",
        "    'Region': 'first'  # Region (assume it does not change)\n",
        "}).reset_index()\n",
        "\n",
        "# Encode categorical features\n",
        "customer_profile = pd.get_dummies(customer_profile, columns=['Category', 'Region'], drop_first=True)\n",
        "\n",
        "# Scale numerical features\n",
        "scaler = StandardScaler()\n",
        "scaled_features = scaler.fit_transform(customer_profile.drop('CustomerID', axis=1))\n",
        "\n",
        "# Compute similarity using cosine similarity\n",
        "similarity_matrix = cosine_similarity(scaled_features)\n",
        "\n",
        "# Recommend top 3 similar customers for the first 20 customers\n",
        "lookalike_results = {}\n",
        "customer_ids = customer_profile['CustomerID'].tolist()\n",
        "\n",
        "for idx, customer_id in enumerate(customer_ids[:20]):\n",
        "    similarity_scores = list(enumerate(similarity_matrix[idx]))\n",
        "    sorted_scores = sorted(similarity_scores, key=lambda x: x[1], reverse=True)\n",
        "    top_3 = [(customer_ids[i], round(score, 4)) for i, score in sorted_scores[1:4]]\n",
        "    lookalike_results[customer_id] = top_3\n",
        "\n",
        "# Save results to Lookalike.csv\n",
        "lookalike_df = pd.DataFrame([\n",
        "    {'cust_id': cust_id, 'lookalikes': str(lookalikes)}\n",
        "    for cust_id, lookalikes in lookalike_results.items()\n",
        "])\n",
        "lookalike_df.to_csv('Lookalike.csv', index=False)\n",
        "\n",
        "print(\"Lookalike recommendations saved to Lookalike.csv\")\n"
      ]
    },
    {
      "cell_type": "code",
      "source": [],
      "metadata": {
        "id": "QOSdzOzfHvLy"
      },
      "execution_count": null,
      "outputs": []
    }
  ]
}